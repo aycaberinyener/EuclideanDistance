{
  "nbformat": 4,
  "nbformat_minor": 0,
  "metadata": {
    "colab": {
      "provenance": [],
      "authorship_tag": "ABX9TyODkjk+fjFF5L9KJAzoGPKT",
      "include_colab_link": true
    },
    "kernelspec": {
      "name": "python3",
      "display_name": "Python 3"
    },
    "language_info": {
      "name": "python"
    }
  },
  "cells": [
    {
      "cell_type": "markdown",
      "metadata": {
        "id": "view-in-github",
        "colab_type": "text"
      },
      "source": [
        "<a href=\"https://colab.research.google.com/github/aycaberinyener/EuclideanDistance/blob/main/Untitled0.ipynb\" target=\"_parent\"><img src=\"https://colab.research.google.com/assets/colab-badge.svg\" alt=\"Open In Colab\"/></a>"
      ]
    },
    {
      "cell_type": "code",
      "execution_count": null,
      "metadata": {
        "colab": {
          "base_uri": "https://localhost:8080/"
        },
        "id": "sQ5ei187lY4G",
        "outputId": "d75c1957-133c-4990-f617-920c45dc39ba"
      },
      "outputs": [
        {
          "output_type": "stream",
          "name": "stdout",
          "text": [
            "Enter the x-coordinate of Point 1: 0\n",
            "Enter the y-coordinate of Point 1: 0\n",
            "Enter the x-coordinate of Point 2: 3\n",
            "Enter the y-coordinate of Point 2: 4\n",
            "The Euclidean distance between (0.0, 0.0) and (3.0, 4.0) is 5.00\n"
          ]
        }
      ],
      "source": [
        "import math\n",
        "\n",
        "def euclidean_distance(point1, point2):\n",
        "    distance = math.sqrt((point1[0] - point2[0])**2 + (point1[1] - point2[1])**2)\n",
        "    return distance\n",
        "\n",
        "def get_point_input(point_name):\n",
        "    x = float(input(f\"Enter the x-coordinate of {point_name}: \"))\n",
        "    y = float(input(f\"Enter the y-coordinate of {point_name}: \"))\n",
        "    return (x, y)\n",
        "\n",
        "point1 = get_point_input(\"Point 1\")\n",
        "point2 = get_point_input(\"Point 2\")\n",
        "\n",
        "distance = euclidean_distance(point1, point2)\n",
        "\n",
        "print(f\"The Euclidean distance between {point1} and {point2} is {distance:.2f}\")\n"
      ]
    }
  ]
}